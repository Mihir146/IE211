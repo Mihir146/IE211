{
  "nbformat": 4,
  "nbformat_minor": 0,
  "metadata": {
    "colab": {
      "provenance": [],
      "include_colab_link": true
    },
    "kernelspec": {
      "name": "python3",
      "display_name": "Python 3"
    },
    "language_info": {
      "name": "python"
    }
  },
  "cells": [
    {
      "cell_type": "markdown",
      "metadata": {
        "id": "view-in-github",
        "colab_type": "text"
      },
      "source": [
        "<a href=\"https://colab.research.google.com/github/Mihir146/IE211/blob/main/Copy_of_IE211_Lab0_2025Aug1.ipynb\" target=\"_parent\"><img src=\"https://colab.research.google.com/assets/colab-badge.svg\" alt=\"Open In Colab\"/></a>"
      ]
    },
    {
      "cell_type": "markdown",
      "source": [
        "# IE 211 Lab 0\n",
        "\n",
        "In this lab, you will solve some exercises using basic Python programming constructs. The following will be used in your exercises:\n",
        "\n",
        "\n",
        "*   Assignment operation\n",
        "*   User input and output\n",
        "*   Arithmetic operations (sum, difference, product, power, etc)\n",
        "*   if..else..elif\n",
        "*   loops (e.g. for, while)\n",
        "*   lists\n",
        "\n",
        "Please make sure to ensure the following in the solutions you prepare.\n",
        "\n",
        "1. Include a clear algorithm description of the procedure you have developed for solving a problem.\n",
        "2. Indicate clearly if you have made any assumptions and included special considerations in your code.\n",
        "3. Prepare a neat docstring (documentation of the function headers) for every function you use.\n",
        "4. Document the code wherever needed.\n",
        "5. When some user input is sought, display a clear message about what type of input is sought from the user.\n",
        "6. When some output is produced, explain how a user can interpret and understand the output.\n",
        "\n",
        "##Submission deadline:\n",
        "2nd August, 11 59 PM. Please submit in time to avoid penalties."
      ],
      "metadata": {
        "id": "Yaty1oPiX8_N"
      }
    },
    {
      "cell_type": "markdown",
      "source": [
        "###Question 1\n",
        "\n",
        "Consider the following string: str1 = \"indoctrinate\".\n",
        "\n",
        "Recall that in your practice problems, you would have attempted to find if a string (e.g. \"ind\") is a substring of str1.\n",
        "\n",
        "Now, we will consider an extended version of this problem.\n",
        "\n",
        "Consider the string str2 = \"innate\". Observe that this string is not a (contiguous) substring of str1.\n",
        "\n",
        "However it is a non-contiguous substring of str1. That is, the first two letters of str1 when concatenated with the last four characters of str1 yield the desired substring str2.\n",
        "\n",
        "Thus we define the contiguous and non-contiguous substrings in the following manner.\n",
        "\n",
        "Let a string str1 be represented as $s_1 \\ s_2 \\ s_3 \\ \\ldots s_n$.\n",
        "\n",
        "Then a string str2 is a contiguous substring of str1 if there exists $\\ell \\in \\{1,2,\\ldots,n\\}$ and $m\\in \\{1,2,\\ldots,n\\}$, $\\ell \\leq m$ such that\n",
        "\n",
        "$$\n",
        "\\text{str2} = s_\\ell \\ s_{\\ell+1} \\ldots s_m.\n",
        "$$  \n",
        "\n",
        "A string str3 is called a non-contiguous substring of str1 if there exist $(\\ell_1, m_1), (\\ell_2, m_2), \\ldots, (\\ell_k, m_k)$ where $\\ell_j , m_j \\in \\{1,2,\\ldots,n\\}$ and $\\ell_j \\leq m_j, j \\in \\{1,2,\\ldots,k\\}$, such that\n",
        "\n",
        "$$\n",
        "str3=s_{\\ell_1} \\ s_{\\ell_1+1} \\ldots s_{m_1} \\ s_{\\ell_2} \\ s_{\\ell_2+1} \\ldots s_{m_2} \\ldots s_{\\ell_k} \\ s_{\\ell_k+1} \\ldots s_{m_k}.\n",
        "$$\n",
        "\n",
        "You will design an algorithm to check if str2 is a contiguous or a non-contiguous substring of str1.\n",
        "\n",
        "If str2 is a contiguous substring of str1, then indicate the starting and ending positions $\\ell$ and $m$.\n",
        "\n",
        "If str2 is a non-contiguous substring of str1, then indicate the starting and ending positions $(\\ell_1, m_1), (\\ell_2, m_2), \\ldots, (\\ell_k, m_k)$.\n",
        "\n",
        "Test the correctness of the code with several test examples.\n"
      ],
      "metadata": {
        "id": "3vP7KWX9YKjP"
      }
    },
    {
      "cell_type": "code",
      "source": [
        "#Write your solution for Q1 here.\n",
        "def contiguous():\n",
        "    str1 = input()\n",
        "    str2 = input()\n",
        "\n",
        "    if(len(str1)<len(str2)):\n",
        "      print(\"Not Possible\")\n",
        "      return\n",
        "    tmp = []\n",
        "\n",
        "    init = 0\n",
        "    for i in range(0,len(str2)):\n",
        "      for j in range(init , len(str1)):\n",
        "        if(j==len(str1)-1 and i!=len(str2)-1):\n",
        "            print(\"Not Possible\")\n",
        "            return\n",
        "        if(str2[i] == str1[j]):\n",
        "          tmp.append(j)\n",
        "          init = j+1\n",
        "          break\n",
        "        if(str2[i] != str1[j] and j==len(str1)-1):\n",
        "          print(\"Not Possible\")\n",
        "          return\n",
        "\n",
        "    start = [tmp[0]]\n",
        "    end = []\n",
        "    for i in range(1, len(tmp)):\n",
        "      if(tmp[i]-tmp[i-1]!=1):\n",
        "        start.append(tmp[i])\n",
        "        end.append(tmp[i-1])\n",
        "\n",
        "    end.append(tmp[-1])\n",
        "\n",
        "    print(start)\n",
        "    print(end)\n",
        "    return\n",
        "\n",
        "contiguous()"
      ],
      "metadata": {
        "id": "8fxyIL7qYIkI",
        "colab": {
          "base_uri": "https://localhost:8080/"
        },
        "outputId": "587a1628-2e89-41ec-d3da-85cd95f1b1a2"
      },
      "execution_count": 48,
      "outputs": [
        {
          "output_type": "stream",
          "name": "stdout",
          "text": [
            "indoctrinate\n",
            "innate\n",
            "[0, 8]\n",
            "[1, 11]\n"
          ]
        }
      ]
    },
    {
      "cell_type": "markdown",
      "source": [
        "Discuss the algorithm you used for Q1. Explain why your algorithm is correct. Also explain how a user can interpret the output from your algorithm."
      ],
      "metadata": {
        "id": "aMc6_OylppVN"
      }
    },
    {
      "cell_type": "markdown",
      "source": [
        "###Question 2\n",
        "\n",
        "Recall that you would have found a procedure to find if a number is prime or not in the practice problems. In this exercise, we will use that function for a different problem.\n",
        "\n",
        "Consider that your is_prime(n) function is ready to be deployed. Otherwise, make it ready now.\n",
        "\n",
        "Now, we need to use your function for the following problem.\n",
        "\n",
        "Accept an integer $n$ from the user.\n",
        "\n",
        "2a) Find all the prime number pairs $(p,q)$ where $p\\leq n, q\\leq n$, such that $q=p+2$. Clearly print your outputs for different values of $n$. Try increasing $n$ to very large numbers. Discuss your observations on results obtained for different $n$ values. As $n$ increases, how does the output behavior change? Discuss.\n",
        "\n",
        "2b) Find all the triplets of the form $(p,q,r)$ where $p\\leq n, q\\leq n, r\\leq n$, such that $p,q$ are primes and $r$ is a square number (that is, $r=a^2$ for some $a \\leq n$). Clearly print your outputs for different values of $n$. Try increasing $n$ to very large numbers. Discuss your observations on results obtained for different $n$ values. As $n$ increases, how does the output behavior change? Discuss.\n",
        "\n"
      ],
      "metadata": {
        "id": "E4k1W0asZvOe"
      }
    },
    {
      "cell_type": "code",
      "source": [
        "#your solution for Question 2a goes here.\n",
        "import math\n",
        "def is_prime(n):\n",
        "  if(n==0 or n==1):\n",
        "    return False\n",
        "  for i in range(2, math.floor(math.sqrt(n)+1)):\n",
        "    if(n%i == 0):\n",
        "      return False\n",
        "  return True\n",
        "\n",
        "n = input()\n",
        "for j in range(1, int(n)):\n",
        "  if(is_prime(j)):\n",
        "    if(is_prime(j+2)):\n",
        "      print('(',j, ',', j+2, ')')\n",
        "\n"
      ],
      "metadata": {
        "id": "mq7TGlBAZ2eF"
      },
      "execution_count": null,
      "outputs": []
    },
    {
      "cell_type": "code",
      "source": [
        "#your solutions for Question 2b goes here.\n",
        "def is_square(n):\n",
        "  if(math.sqrt(n)==math.floor(math.sqrt(n))):\n",
        "    return True\n",
        "  return False\n",
        "\n",
        "n = int(input())\n",
        "squares = []\n",
        "for i in range(0, n):\n",
        "  if(is_square(i)):\n",
        "    squares.append(i)\n",
        "for i in range(2,n):\n",
        "  for j in range(0, len(squares)):\n",
        "   if(is_prime(i) and i+squares[j]<=10 and is_prime(i+squares[j])):\n",
        "      print('(',i,',',i+squares[j],',',squares[j],')')\n",
        "\n"
      ],
      "metadata": {
        "id": "UwZGTLbUm5K1",
        "colab": {
          "base_uri": "https://localhost:8080/"
        },
        "outputId": "e584a5be-cb52-4490-d65c-a874c073ac5d"
      },
      "execution_count": 40,
      "outputs": [
        {
          "output_type": "stream",
          "name": "stdout",
          "text": [
            "10\n",
            "( 2 , 2 , 0 )\n",
            "( 2 , 3 , 1 )\n",
            "( 3 , 3 , 0 )\n",
            "( 3 , 7 , 4 )\n",
            "( 5 , 5 , 0 )\n",
            "( 7 , 7 , 0 )\n"
          ]
        }
      ]
    },
    {
      "cell_type": "markdown",
      "source": [
        "Discuss the algorithms you used for Q2a and Q2b clearly. Explain why your algorithms are correct. Also explain how a user can interpret the output from your algorithm."
      ],
      "metadata": {
        "id": "y-I-o5fypeAj"
      }
    },
    {
      "cell_type": "markdown",
      "source": [
        "###Question 3\n",
        "\n",
        "Recall that the factorial of a non-negative integer is defined as follows:\n",
        "$$\n",
        "\\begin{align}\n",
        "\\text{factorial}(0) &= 1 \\\\\n",
        "\\text{factorial}(n) &= n*\\text{factorial}(n-1), \\text{ if } n\\geq 1.\n",
        "\\end{align}\n",
        "$$\n",
        "\n",
        "Consider the following code to compute the factorial.\n"
      ],
      "metadata": {
        "id": "lm9e275GaHU9"
      }
    },
    {
      "cell_type": "code",
      "source": [
        "def factorial(n):\n",
        "  if n<=0:\n",
        "    return 1\n",
        "  else:\n",
        "    return n*factorial(n-1)"
      ],
      "metadata": {
        "id": "Cswhkn0rng4T"
      },
      "execution_count": null,
      "outputs": []
    },
    {
      "cell_type": "markdown",
      "source": [
        "a) While the code is a simple way to write the factorial function, explain how it works. Use factorial(5) to explain.\n",
        "\n",
        "b) Clearly describe the intermediate steps and justify why the code is or is not correct.\n",
        "\n",
        "c) Is $n \\leq 0$ required in the code? Can it be modified?  If yes, indicate and explain.\n",
        "\n",
        "d) Now, write a code which uses simple loops to compute the factorial. Explain the differences between these two versions.\n"
      ],
      "metadata": {
        "id": "OPk2RxyFn6nN"
      }
    },
    {
      "cell_type": "markdown",
      "source": [
        "#Your answers for Q3a - Q3c go here."
      ],
      "metadata": {
        "id": "NuCch3yRocUy"
      }
    },
    {
      "cell_type": "markdown",
      "source": [
        "#Your solution for Q3 d goes here, followed by required discussions."
      ],
      "metadata": {
        "id": "4t0SBoBgoqqG"
      }
    },
    {
      "cell_type": "code",
      "source": [
        "#Code for Q3d\n",
        "def factorial_iterative(n):\n",
        "  result = 1\n",
        "  for i in range(0, n):\n",
        "    result*=(n-i)\n",
        "  return result\n",
        "\n",
        "factorial_iterative(int(input()))"
      ],
      "metadata": {
        "id": "OOLgxNDVp4I9",
        "colab": {
          "base_uri": "https://localhost:8080/"
        },
        "outputId": "51c6bd6c-55c5-4c69-d8a8-e0adb37f9261"
      },
      "execution_count": 30,
      "outputs": [
        {
          "name": "stdout",
          "output_type": "stream",
          "text": [
            "6\n"
          ]
        },
        {
          "output_type": "execute_result",
          "data": {
            "text/plain": [
              "720"
            ]
          },
          "metadata": {},
          "execution_count": 30
        }
      ]
    },
    {
      "cell_type": "markdown",
      "source": [
        "# Boredom breaker:\n",
        "\n",
        "Consider a $4 \\times 4$ matrix given as follows.\n",
        "\n",
        "$A = \\begin{bmatrix}\n",
        "      2 & 3 & * & 4 \\\\\n",
        "      * & * & * & 3 \\\\\n",
        "      1 & * & * & * \\\\\n",
        "      * & * & * & * \\end{bmatrix}\n",
        "$.\n",
        "\n",
        "Develop a procedure so that the positions with $*$ are filled with numbers in $\\{1,2,3,4\\}$ such that each row and column of $A$ contains all the four numbers $1,2,3,4$. Also every submatrix $A[0:2,0:2]$, $A[0:2,2:]$, $A[2:,0:2]$, $A[2:,2:]$, must contain all four numbers $1,2,3,4$.\n",
        "\n",
        "Discuss your algorithm and explain why it is correct.\n",
        "\n",
        "Test the correctness of your algorithm with other test inputs.\n",
        "\n"
      ],
      "metadata": {
        "id": "2MB9Kqa1p88A"
      }
    },
    {
      "cell_type": "code",
      "source": [
        "#Code goes here\n",
        "def sudoku():\n",
        "  matrix = [[]]\n",
        "  for i in range(0,4):\n",
        "    for j in range(0,4):\n",
        "      matrix[i][j] = input()\n",
        "\n",
        ""
      ],
      "metadata": {
        "id": "1VNXrPJWr2mi",
        "colab": {
          "base_uri": "https://localhost:8080/",
          "height": 106
        },
        "outputId": "0578d73b-afb3-4e7e-9347-db156d2a4a1f"
      },
      "execution_count": 31,
      "outputs": [
        {
          "output_type": "error",
          "ename": "SyntaxError",
          "evalue": "incomplete input (ipython-input-1668727486.py, line 4)",
          "traceback": [
            "\u001b[0;36m  File \u001b[0;32m\"/tmp/ipython-input-1668727486.py\"\u001b[0;36m, line \u001b[0;32m4\u001b[0m\n\u001b[0;31m    for i in range(0,4):\u001b[0m\n\u001b[0m                        ^\u001b[0m\n\u001b[0;31mSyntaxError\u001b[0m\u001b[0;31m:\u001b[0m incomplete input\n"
          ]
        }
      ]
    },
    {
      "cell_type": "markdown",
      "source": [],
      "metadata": {
        "id": "7--15mYZftkp"
      }
    }
  ]
}